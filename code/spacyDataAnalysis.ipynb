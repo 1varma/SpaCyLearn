{
 "cells": [
  {
   "cell_type": "markdown",
   "id": "3e52e3e3",
   "metadata": {},
   "source": [
    "# Data Structures\n",
    "\n",
    "- spaCy stores all shared data in a vocabulary, the Vocab.\n",
    "\n",
    "- This includes words, but also the labels schemes for tags and entities.\n",
    "\n",
    "- To save memory, all strings are encoded to hash IDs. If a word occurs more than once, we don't need to save it every time.\n",
    "\n",
    "- Instead, spaCy uses a hash function to generate an ID and stores the string only once in the string store. The string store is available as `nlp.vocab.strings`.\n",
    "\n",
    "- It's a lookup table that works in both directions. You can look up a string and get its hash, and look up a hash to get its string value. Internally, spaCy only communicates in hash IDs.\n",
    "\n",
    "- Hash IDs can't be reversed, though. If a word is not in the vocabulary, there's no way to get its string. That's why we always need to pass around the shared vocab.\n",
    "\n",
    "\n",
    "## Vocab, Lexemes and StringStore\n",
    "\n",
    "- `Vocab`: stores data shared across multiple documents\n",
    "- To save memory, spaCy encodes all strings to <b>hash values</b>\n",
    "- Strings are only store once in the `StringStore` via `nlp.vocab.strings`\n",
    "- String store: <b>lookup table</b> in both directions"
   ]
  },
  {
   "cell_type": "code",
   "execution_count": 1,
   "id": "4355620c",
   "metadata": {},
   "outputs": [],
   "source": [
    "import spacy\n",
    "\n",
    "nlp = spacy.load(\"en_core_web_sm\")"
   ]
  },
  {
   "cell_type": "code",
   "execution_count": 2,
   "id": "f3f1251b",
   "metadata": {},
   "outputs": [],
   "source": [
    "nlp.vocab.strings.add(\"coffee\")\n",
    "coffee_hash = nlp.vocab.strings['coffee']\n",
    "coffee_string = nlp.vocab.strings[coffee_hash]"
   ]
  },
  {
   "cell_type": "code",
   "execution_count": 3,
   "id": "9fc81afa",
   "metadata": {},
   "outputs": [
    {
     "data": {
      "text/plain": [
       "84780"
      ]
     },
     "execution_count": 3,
     "metadata": {},
     "output_type": "execute_result"
    }
   ],
   "source": [
    "len(nlp.vocab.strings)"
   ]
  },
  {
   "cell_type": "code",
   "execution_count": 4,
   "id": "79fcb5cd",
   "metadata": {},
   "outputs": [
    {
     "data": {
      "text/plain": [
       "3197928453018144401"
      ]
     },
     "execution_count": 4,
     "metadata": {},
     "output_type": "execute_result"
    }
   ],
   "source": [
    "coffee_hash"
   ]
  },
  {
   "cell_type": "code",
   "execution_count": 5,
   "id": "2a2060f6",
   "metadata": {},
   "outputs": [
    {
     "data": {
      "text/plain": [
       "'coffee'"
      ]
     },
     "execution_count": 5,
     "metadata": {},
     "output_type": "execute_result"
    }
   ],
   "source": [
    "coffee_string"
   ]
  },
  {
   "cell_type": "markdown",
   "id": "d454cc5f",
   "metadata": {},
   "source": [
    "- Hashes can't be reversed - that's why we need to provide the shared vocab"
   ]
  },
  {
   "cell_type": "code",
   "execution_count": 6,
   "id": "24c7ec09",
   "metadata": {},
   "outputs": [],
   "source": [
    "# Raises an error if we haven't seen the string before\n",
    "string = nlp.vocab.strings[3197928453018144401]"
   ]
  },
  {
   "cell_type": "code",
   "execution_count": 7,
   "id": "c4a035ea",
   "metadata": {},
   "outputs": [
    {
     "data": {
      "text/plain": [
       "'coffee'"
      ]
     },
     "execution_count": 7,
     "metadata": {},
     "output_type": "execute_result"
    }
   ],
   "source": [
    "string"
   ]
  },
  {
   "cell_type": "markdown",
   "id": "ef05a1df",
   "metadata": {},
   "source": [
    "- To get the hash for a string, we can look it up in `nlp.vocab.strings`.\n",
    "\n",
    "- To get the string representation of a hash, we can look up the hash.\n",
    "\n",
    "- A `Doc` object also exposes its vocab and string\n",
    "\n",
    "- Look up the string and hash in `nlp.vocab.strings`"
   ]
  },
  {
   "cell_type": "code",
   "execution_count": 8,
   "id": "856ac2d5",
   "metadata": {},
   "outputs": [
    {
     "name": "stdout",
     "output_type": "stream",
     "text": [
      "hash value: 3197928453018144401\n",
      "string value: coffee\n"
     ]
    }
   ],
   "source": [
    "doc = nlp('I love coffee')\n",
    "\n",
    "print(\"hash value:\", nlp.vocab.strings['coffee'])\n",
    "print(\"string value:\", nlp.vocab.strings[3197928453018144401])"
   ]
  },
  {
   "cell_type": "markdown",
   "id": "39e2c647",
   "metadata": {},
   "source": [
    "- The `doc` also exposes the vocab and strings"
   ]
  },
  {
   "cell_type": "code",
   "execution_count": 9,
   "id": "1de73098",
   "metadata": {},
   "outputs": [
    {
     "name": "stdout",
     "output_type": "stream",
     "text": [
      "hash value:  3197928453018144401\n"
     ]
    }
   ],
   "source": [
    "doc = nlp(\"I love coffee\")\n",
    "print(\"hash value: \", doc.vocab.strings['coffee'])"
   ]
  },
  {
   "cell_type": "code",
   "execution_count": null,
   "id": "30dc244e",
   "metadata": {},
   "outputs": [],
   "source": []
  }
 ],
 "metadata": {
  "kernelspec": {
   "display_name": "spacyVenv",
   "language": "python",
   "name": "python3"
  },
  "language_info": {
   "codemirror_mode": {
    "name": "ipython",
    "version": 3
   },
   "file_extension": ".py",
   "mimetype": "text/x-python",
   "name": "python",
   "nbconvert_exporter": "python",
   "pygments_lexer": "ipython3",
   "version": "3.12.9"
  }
 },
 "nbformat": 4,
 "nbformat_minor": 5
}
