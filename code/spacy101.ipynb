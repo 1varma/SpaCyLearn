{
 "cells": [
  {
   "cell_type": "markdown",
   "id": "abb5ee4c",
   "metadata": {},
   "source": [
    "# Introduction to spacy\n",
    "\n",
    "- At the center of spaCy is the object containing the processing pipeline. We usually call this variable \"nlp\".\n",
    "\n",
    "- For example, to create an English nlp object, you can import spacy and use the spacy.blank method to create a blank English pipeline. You can use the nlp object like a function to analyze text.\n",
    "\n",
    "- It contains all the different components in the pipeline.\n",
    "\n",
    "- It also includes language-specific rules used for tokenizing the text into words and punctuation. spaCy supports a variety of languages.\n"
   ]
  },
  {
   "cell_type": "code",
   "execution_count": 1,
   "id": "f66df2ae",
   "metadata": {},
   "outputs": [],
   "source": [
    "import spacy\n",
    "\n",
    "nlp = spacy.blank('en')"
   ]
  },
  {
   "cell_type": "markdown",
   "id": "ff3cb210",
   "metadata": {},
   "source": [
    "- When you process a text with the nlp object, spaCy creates a Doc object – short for \"document\". The Doc lets you access information about the text in a structured way, and no information is lost.\n",
    "\n",
    "- The Doc behaves like a normal Python sequence by the way and lets you iterate over its tokens, or get a token by its index. But more on that later!\n"
   ]
  },
  {
   "cell_type": "code",
   "execution_count": 2,
   "id": "6151fcc5",
   "metadata": {},
   "outputs": [
    {
     "name": "stdout",
     "output_type": "stream",
     "text": [
      "Hello\n",
      ",\n",
      "world\n",
      "!\n"
     ]
    }
   ],
   "source": [
    "doc = nlp('Hello, world!')\n",
    "\n",
    "for token in doc:\n",
    "    print(token.text)"
   ]
  },
  {
   "cell_type": "markdown",
   "id": "da909269",
   "metadata": {},
   "source": [
    "there's an important distinction:\n",
    "\n",
    "- `token.text` returns a string  \n",
    "\n",
    "- `token` without .text is still a Token object that gets converted to a string when printed\n",
    "\n",
    "You can see this difference if you check the types:"
   ]
  },
  {
   "cell_type": "code",
   "execution_count": 3,
   "id": "fec8b4c9",
   "metadata": {},
   "outputs": [
    {
     "name": "stdout",
     "output_type": "stream",
     "text": [
      "token: Hello (type: <class 'spacy.tokens.token.Token'>)\n",
      "token.text: Hello (type: <class 'str'>)\n",
      "----\n",
      "token: , (type: <class 'spacy.tokens.token.Token'>)\n",
      "token.text: , (type: <class 'str'>)\n",
      "----\n",
      "token: world (type: <class 'spacy.tokens.token.Token'>)\n",
      "token.text: world (type: <class 'str'>)\n",
      "----\n",
      "token: ! (type: <class 'spacy.tokens.token.Token'>)\n",
      "token.text: ! (type: <class 'str'>)\n",
      "----\n"
     ]
    }
   ],
   "source": [
    "for token in doc:\n",
    "    print(f\"token: {token} (type: {type(token)})\")\n",
    "    print(f\"token.text: {token.text} (type: {type(token.text)})\")\n",
    "    print(\"----\")"
   ]
  },
  {
   "cell_type": "markdown",
   "id": "1a554891",
   "metadata": {},
   "source": [
    "## The Token Object\n",
    "\n",
    "- `Token` objects represent the tokens in a document – for example, a word or a punctuation character.\n",
    "\n",
    "- To get a token at a specific position, you can index into the doc.\n",
    "\n",
    "- `Token` objects also provide various attributes that let you access more information about the tokens. For example, the .text attribute returns the verbatim token text.\n"
   ]
  },
  {
   "cell_type": "code",
   "execution_count": 4,
   "id": "c992688f",
   "metadata": {},
   "outputs": [
    {
     "name": "stdout",
     "output_type": "stream",
     "text": [
      "world\n"
     ]
    }
   ],
   "source": [
    "token = doc[2]\n",
    "\n",
    "print(token.text)"
   ]
  },
  {
   "cell_type": "markdown",
   "id": "7b1d200f",
   "metadata": {},
   "source": [
    "## The Span Object\n",
    "\n",
    "- A `Span` object is a slice of the document consisting of one or more tokens. It's only a view of the `Doc` and doesn't contain any data itself.\n",
    "\n",
    "- To create a span, you can use Python's slice notation. For example, `1:3` will create a slice starting from the token at position 1, up to – but not including! – the token at position 3.\n"
   ]
  },
  {
   "cell_type": "code",
   "execution_count": 5,
   "id": "804fa056",
   "metadata": {},
   "outputs": [
    {
     "name": "stdout",
     "output_type": "stream",
     "text": [
      ", world\n"
     ]
    }
   ],
   "source": [
    "span = doc[1:3]\n",
    "\n",
    "print(span.text)"
   ]
  },
  {
   "cell_type": "markdown",
   "id": "e1228c7c",
   "metadata": {},
   "source": [
    "Here you can see some of the available token attributes:\n",
    "\n",
    "- `i` is the index of the token within the parent document.\n",
    "\n",
    "- `text` returns the token text.\n",
    "\n",
    "- `is_alpha`, `is_punct` and `like_num` return boolean values indicating whether the token consists of alphabetic characters, whether it's punctuation or whether it resembles a number. For example, a token \"10\" – one, zero – or the word \"ten\" – T, E, N.\n",
    "\n",
    "- These attributes are also called lexical attributes: they refer to the entry in the vocabulary and don't depend on the token's context.\n"
   ]
  },
  {
   "cell_type": "code",
   "execution_count": 6,
   "id": "4b2e8005",
   "metadata": {},
   "outputs": [
    {
     "name": "stdout",
     "output_type": "stream",
     "text": [
      "Index:  [0, 1, 2, 3]\n",
      "Text:  ['It', 'costs', '$', '5']\n",
      "is_alpha:  [True, True, False, False]\n",
      "is_punct:  [False, False, False, False]\n",
      "like_num:  [False, False, False, True]\n"
     ]
    }
   ],
   "source": [
    "doc = nlp('It costs $5')\n",
    "\n",
    "print(\"Index: \", [token.i for token in doc])\n",
    "print(\"Text: \", [token.text for token in doc])\n",
    "\n",
    "print(\"is_alpha: \", [token.is_alpha for token in doc])\n",
    "print(\"is_punct: \", [token.is_punct for token in doc])\n",
    "print(\"like_num: \", [token.like_num for token in doc])"
   ]
  },
  {
   "cell_type": "markdown",
   "id": "1fb20023",
   "metadata": {},
   "source": [
    "## Trained pipelines\n",
    "\n",
    "\n",
    "- Models that enable spaCy to predict linguistic attributes in context\n",
    "    - Part-of-speech tags\n",
    "    - Syntactic dependencies\n",
    "    - Named entities\n",
    "    \n",
    "- Trained on labeled example texts\n",
    "- Can be updated with more examples to fine-tune predictions\n"
   ]
  },
  {
   "cell_type": "markdown",
   "id": "d9141f88",
   "metadata": {},
   "source": [
    "- Some of the most interesting things you can analyze are context-specific: for example, whether a word is a verb or whether a span of text is a person name.\n",
    "\n",
    "- Trained pipeline components have statistical models that enable spaCy to make predictions in context. This usually includes part-of speech tags, syntactic dependencies and named entities.\n",
    "\n",
    "- Pipelines are trained on large datasets of labeled example texts.\n",
    "\n",
    "- They can be updated with more examples to fine-tune their predictions – for example, to perform better on your specific data.\n"
   ]
  },
  {
   "cell_type": "markdown",
   "id": "cb0f781e",
   "metadata": {},
   "source": [
    "- spaCy provides a number of trained pipeline packages you can download using the `spacy download` command. For example, the \"en_core_web_sm\" package is a small English pipeline that supports all core capabilities and is trained on web text.\n",
    "\n",
    "- The `spacy.load` method loads a pipeline package by name and returns an `nlp` object.\n",
    "\n",
    "- The package provides the binary weights that enable spaCy to make predictions.\n",
    "\n",
    "- It also includes the vocabulary, meta information about the pipeline and the configuration file used to train it. It tells spaCy which language class to use and how to configure the processing pipeline.\n"
   ]
  },
  {
   "cell_type": "code",
   "execution_count": 8,
   "id": "6ea62b62",
   "metadata": {},
   "outputs": [],
   "source": [
    "nlp = spacy.load(\"en_core_web_sm\")"
   ]
  },
  {
   "cell_type": "markdown",
   "id": "46372c68",
   "metadata": {},
   "source": [
    "### Predicting Part-of-speech Tags\n",
    "\n",
    "- Let's take a look at the model's predictions. In this example, we're using spaCy to predict part-of-speech tags, the word types in context.\n",
    "\n",
    "- First, we load the small English pipeline and receive an `nlp` object.\n",
    "\n",
    "- Next, we're processing the text \"She ate the pizza\".\n",
    "\n",
    "- For each token in the doc, we can print the text and the `.pos_` attribute, the predicted part-of-speech tag.\n",
    "\n",
    "- In spaCy, attributes that return strings usually end with an underscore – attributes without the underscore return an integer ID value.\n",
    "\n",
    "- Here, the model correctly predicted \"ate\" as a verb and \"pizza\" as a noun.\n"
   ]
  },
  {
   "cell_type": "code",
   "execution_count": 9,
   "id": "88f68e5e",
   "metadata": {},
   "outputs": [
    {
     "name": "stdout",
     "output_type": "stream",
     "text": [
      "She PRON\n",
      "ate VERB\n",
      "the DET\n",
      "pizza NOUN\n"
     ]
    }
   ],
   "source": [
    "doc = nlp(\"She ate the pizza\")\n",
    "\n",
    "for token in doc:\n",
    "    print(token.text, token.pos_)"
   ]
  },
  {
   "cell_type": "markdown",
   "id": "e62b2f14",
   "metadata": {},
   "source": [
    "### Predicting Syntactic Dependencies\n",
    "\n",
    "- In addition to the part-of-speech tags, we can also predict how the words are related. For example, whether a word is the subject of the sentence or an object.\n",
    "\n",
    "- The `.dep_` attribute returns the predicted dependency label.\n",
    "\n",
    "- The `.head` attribute returns the syntactic head token. You can also think of it as the parent token this word is attached to."
   ]
  },
  {
   "cell_type": "markdown",
   "id": "bf29a364",
   "metadata": {},
   "source": [
    "What each attribute means:\n",
    "\n",
    "- `token.text` - The actual word/token as a string\n",
    "- `token.pos_` - Part-of-speech tag (noun, verb, pronoun, etc.)\n",
    "- `token.dep_` - Syntactic dependency relation (how this token relates to other tokens)\n",
    "- `token.head.text` - The text of the token that this token is syntactically dependent on"
   ]
  },
  {
   "cell_type": "code",
   "execution_count": 10,
   "id": "b2f6cf5c",
   "metadata": {},
   "outputs": [
    {
     "name": "stdout",
     "output_type": "stream",
     "text": [
      "She PRON nsubj ate\n",
      "ate VERB ROOT ate\n",
      "the DET det pizza\n",
      "pizza NOUN dobj ate\n"
     ]
    }
   ],
   "source": [
    "for token in doc:\n",
    "    print(token.text, token.pos_, token.dep_, token.head.text)"
   ]
  },
  {
   "cell_type": "markdown",
   "id": "aeb3f0e7",
   "metadata": {},
   "source": [
    "Explanation of each token:\n",
    "\n",
    "1. \"She\"\n",
    "\n",
    "   - `pos_`: PRON (pronoun)\n",
    "   - `dep_`: nsubj (nominal subject - the subject of the verb)\n",
    "   - `head.text`: ate (the verb that \"She\" is the subject of)\n",
    "\n",
    "\n",
    "2. \"ate\"\n",
    "\n",
    "   - `pos_`: VERB (verb)\n",
    "   - `dep_`: ROOT (the main verb of the sentence)\n",
    "   - `head.text`: ate (points to itself as it's the root)\n",
    "\n",
    "\n",
    "3. \"the\"\n",
    "\n",
    "   - `pos_`: DET (determiner/article)\n",
    "   - `dep_`: det (determiner modifying a noun)\n",
    "   - `head.text`: pizza (the noun it's modifying)\n",
    "\n",
    "\n",
    "4. \"pizza\"\n",
    "\n",
    "   - `pos_`: NOUN (noun)\n",
    "   - `dep_`: dobj (direct object of the verb)\n",
    "   - `head.text`: ate (the verb that takes \"pizza\" as its object)\n",
    "\n",
    "This shows how spaCy parses the sentence structure: \"She\" (subject) \"ate\" (verb) \"the pizza\" (direct object with determiner). The dependency relationships form a tree with \"ate\" as the root, connecting all the grammatical relationships in the sentence.\n",
    "\n",
    "- The pronoun \"She\" is a nominal subject attached to the verb – in this case, to \"ate\".\n",
    "\n",
    "- The noun \"pizza\" is a direct object attached to the verb \"ate\". It is eaten by the subject, \"she\".\n",
    "\n",
    "- The determiner \"the\", also known as an article, is attached to the noun \"pizza\"."
   ]
  },
  {
   "cell_type": "markdown",
   "id": "4567f8f9",
   "metadata": {},
   "source": [
    "### Predicting Named Entities\n",
    "\n",
    "- Named entities are \"real world objects\" that are assigned a name – for example, a person, an organization or a country.\n",
    "\n",
    "- The `doc.ents` property lets you access the named entities predicted by the named entity recognition model.\n",
    "\n",
    "- It returns an iterator of `Span` objects, so we can print the entity text and the entity label using the `.label_` attribute.\n",
    "\n",
    "- In this case, the model is correctly predicting \"Apple\" as an organization, \"U.K.\" as a geopolitical entity and \"$1 billion\" as money.\n"
   ]
  },
  {
   "cell_type": "code",
   "execution_count": 11,
   "id": "3dc26db9",
   "metadata": {},
   "outputs": [
    {
     "name": "stdout",
     "output_type": "stream",
     "text": [
      "Apple ORG\n",
      "U.K. GPE\n",
      "$1 billion MONEY\n"
     ]
    }
   ],
   "source": [
    "doc = nlp(\"Apple is looking at buying U.K. startup for $1 billion\")\n",
    "\n",
    "for ent in doc.ents:\n",
    "    print(ent.text, ent.label_)"
   ]
  },
  {
   "cell_type": "code",
   "execution_count": 12,
   "id": "34fe19ba",
   "metadata": {},
   "outputs": [
    {
     "data": {
      "text/plain": [
       "'Countries, cities, states'"
      ]
     },
     "execution_count": 12,
     "metadata": {},
     "output_type": "execute_result"
    }
   ],
   "source": [
    "spacy.explain('GPE')"
   ]
  },
  {
   "cell_type": "code",
   "execution_count": 13,
   "id": "85ddff3d",
   "metadata": {},
   "outputs": [
    {
     "data": {
      "text/plain": [
       "'Companies, agencies, institutions, etc.'"
      ]
     },
     "execution_count": 13,
     "metadata": {},
     "output_type": "execute_result"
    }
   ],
   "source": [
    "spacy.explain(\"ORG\")"
   ]
  },
  {
   "cell_type": "code",
   "execution_count": 14,
   "id": "2607f255",
   "metadata": {},
   "outputs": [
    {
     "data": {
      "text/plain": [
       "'Monetary values, including unit'"
      ]
     },
     "execution_count": 14,
     "metadata": {},
     "output_type": "execute_result"
    }
   ],
   "source": [
    "spacy.explain(\"MONEY\")"
   ]
  },
  {
   "cell_type": "markdown",
   "id": "bba782df",
   "metadata": {},
   "source": [
    "### Rule-based matching\n",
    "\n",
    "- Compared to regular expressions, the matcher works with `Doc` and `Token` objects instead of only strings.\n",
    "\n",
    "- It's also more flexible: you can search for texts but also other lexical attributes.\n",
    "\n",
    "- You can even write rules that use a model's predictions.\n",
    "\n",
    "- For example, find the word \"duck\" only if it's a verb, not a noun.\n",
    "\n",
    "- Match patterns are lists of dictionaries. Each dictionary describes one token. The keys are the names of token attributes, mapped to their expected values.\n",
    "\n",
    "- In this example, we're looking for two tokens with the text \"iPhone\" and \"X\". `[{\"TEXT\": \"iPhone\"}, {\"TEXT\": \"X\"}]`\n",
    "\n",
    "- We can also match on other token attributes. Here, we're looking for two tokens whose lowercase forms equal \"iphone\" and \"x\". `[{\"LOWER\": \"iphone\"}, {\"LOWER\": \"x\"}]`\n",
    "\n",
    "- We can even write patterns using attributes predicted by a model. Here, we're matching a token with the lemma \"buy\", plus a noun. The lemma is the base form, so this pattern would match phrases like \"buying milk\" or \"bought flowers\". `[{\"LEMMA\": \"buy\"}, {\"POS\": \"NOUN\"}]`"
   ]
  },
  {
   "cell_type": "markdown",
   "id": "382b497d",
   "metadata": {},
   "source": [
    "- To use a pattern, we first import the matcher from `spacy.matcher`.\n",
    "\n",
    "- We also load a pipeline and create the `nlp` object.\n",
    "\n",
    "- The matcher is initialized with the shared vocabulary, `nlp.vocab`. You'll learn more about this later – for now, just remember to always pass it in.\n",
    "\n",
    "- The `matcher.add` method lets you add a pattern. The first argument is a unique ID to identify which pattern was matched. The second argument is a list of patterns.\n",
    "\n",
    "- To match the pattern on a text, we can call the matcher on any doc.\n",
    "\n",
    "- This will return the matches.\n"
   ]
  },
  {
   "cell_type": "code",
   "execution_count": 25,
   "id": "25e6c221",
   "metadata": {},
   "outputs": [],
   "source": [
    "from spacy.matcher import Matcher\n",
    "\n",
    "# Initialize the matcher with the shared vocab\n",
    "matcher = Matcher(nlp.vocab)\n",
    "\n",
    "# Add the pattern to the matcher\n",
    "pattern = [{'TEXT':'iPhone'}, {'TEXT':'X'}]\n",
    "matcher.add(\"IPHONE_PATTERN\", [pattern])\n",
    "\n",
    "doc = nlp(\"Upcoming iPhone X release date leaked\")\n",
    "\n",
    "matches = matcher(doc)"
   ]
  },
  {
   "cell_type": "markdown",
   "id": "5b7c4fe9",
   "metadata": {},
   "source": [
    "\n",
    "- `match_id`: hash value of the pattern name\n",
    "- `start`: start index of matched span\n",
    "- `end`: end index of matched span\n"
   ]
  },
  {
   "cell_type": "code",
   "execution_count": 26,
   "id": "5bd80c3b",
   "metadata": {},
   "outputs": [
    {
     "data": {
      "text/plain": [
       "[(9528407286733565721, 1, 3)]"
      ]
     },
     "execution_count": 26,
     "metadata": {},
     "output_type": "execute_result"
    }
   ],
   "source": [
    "matches"
   ]
  },
  {
   "cell_type": "code",
   "execution_count": 27,
   "id": "68bba913",
   "metadata": {},
   "outputs": [
    {
     "name": "stdout",
     "output_type": "stream",
     "text": [
      "iPhone X\n"
     ]
    }
   ],
   "source": [
    "for match_id, start, end in matches:\n",
    "    matched_span = doc[start:end]\n",
    "    print(matched_span.text)"
   ]
  },
  {
   "cell_type": "markdown",
   "id": "8c1c9acf",
   "metadata": {},
   "source": [
    "### Matching lexical attributes\n",
    "\n",
    "Here's an example of a more complex pattern using lexical attributes.\n",
    "\n",
    "We're looking for five tokens:\n",
    "\n",
    "- A token consisting of only digits.\n",
    "\n",
    "- Three case-insensitive tokens for \"fifa\", \"world\" and \"cup\".\n",
    "\n",
    "- And a token that consists of punctuation.\n",
    "\n",
    "- The pattern matches the tokens \"2018 FIFA World Cup:\".\n"
   ]
  },
  {
   "cell_type": "code",
   "execution_count": 29,
   "id": "888874eb",
   "metadata": {},
   "outputs": [
    {
     "name": "stdout",
     "output_type": "stream",
     "text": [
      "2018 FIFA World Cup:\n"
     ]
    }
   ],
   "source": [
    "pattern = [\n",
    "    {'IS_DIGIT':True},\n",
    "    {'LOWER':\"fifa\"},\n",
    "    {'LOWER':\"world\"},\n",
    "    {'LOWER':\"cup\"},\n",
    "    {'IS_PUNCT':True}\n",
    "]\n",
    "\n",
    "matcher.add(\"FIFA_WORLD_CUP\", [pattern])\n",
    "\n",
    "doc = nlp('2018 FIFA World Cup: France won!')\n",
    "\n",
    "matches = matcher(doc)\n",
    "\n",
    "for match_id, start, end in matches:\n",
    "    matched_span = doc[start:end]\n",
    "    print(matched_span)"
   ]
  },
  {
   "cell_type": "markdown",
   "id": "96470c48",
   "metadata": {},
   "source": [
    "### Matching other token attributes\n",
    "\n",
    "In this example, we're looking for two tokens:\n",
    "\n",
    "- A verb with the lemma \"love\", followed by a noun.\n",
    "\n",
    "- This pattern will match \"loved dogs\" and \"love cats\".\n"
   ]
  },
  {
   "cell_type": "code",
   "execution_count": 30,
   "id": "e8c02b83",
   "metadata": {},
   "outputs": [
    {
     "name": "stdout",
     "output_type": "stream",
     "text": [
      "loved dogs\n",
      "love cats\n"
     ]
    }
   ],
   "source": [
    "pattern=[\n",
    "    {'LEMMA':'love', 'POS':'VERB'},\n",
    "    {'POS':'NOUN'}\n",
    "]\n",
    "\n",
    "matcher.add(\"Other_Tokens\", [pattern])\n",
    "\n",
    "doc = nlp('I loved dogs but now I love cats more.')\n",
    "\n",
    "matches = matcher(doc)\n",
    "\n",
    "for match_id, start, end in matches:\n",
    "    matched_span = doc[start:end]\n",
    "    print(matched_span)"
   ]
  },
  {
   "cell_type": "markdown",
   "id": "47a5a17e",
   "metadata": {},
   "source": [
    "### Using operators and quantifiers (1)\n",
    "\n",
    "- Operators and quantifiers let you define how often a token should be matched. They can be added using the \"OP\" key.\n",
    "\n",
    "- Here, the \"?\" operator makes the determiner token optional, so it will match a token with the lemma \"buy\", an optional article and a noun.\n"
   ]
  },
  {
   "cell_type": "code",
   "execution_count": 31,
   "id": "d517e773",
   "metadata": {},
   "outputs": [
    {
     "name": "stdout",
     "output_type": "stream",
     "text": [
      "bought a smartphone\n",
      "buying apps\n"
     ]
    }
   ],
   "source": [
    "pattern = [\n",
    "    {\"LEMMA\":\"buy\"},\n",
    "    {'POS':\"DET\", \"OP\":\"?\"},\n",
    "    {\"POS\":\"NOUN\"}\n",
    "]\n",
    "\n",
    "matcher.add(\"Operator_Quantifier\", [pattern])\n",
    "\n",
    "doc = nlp(\"I bought a smartphone. Now, I'm buying apps.\")\n",
    "\n",
    "matches = matcher(doc)\n",
    "\n",
    "for match_id, start, end in matches:\n",
    "    matched_span = doc[start:end]\n",
    "    print(matched_span)"
   ]
  },
  {
   "attachments": {
    "image.png": {
     "image/png": "[encoded data removed]"
    }
   },
   "cell_type": "markdown",
   "id": "e55e1031",
   "metadata": {},
   "source": [
    "![image.png](attachment:image.png)\n",
    "\n",
    "\"OP\" can have one of four values:\n",
    "\n",
    "- An \"!\" negates the token, so it's matched 0 times.\n",
    "\n",
    "- A \"?\" makes the token optional, and matches it 0 or 1 times.\n",
    "\n",
    "- A \"+\" matches a token 1 or more times.\n",
    "\n",
    "- And finally, an \"*\" matches 0 or more times.\n",
    "\n",
    "Operators can make your patterns a lot more powerful, but they also add more complexity – so use them wisely.\n"
   ]
  }
 ],
 "metadata": {
  "kernelspec": {
   "display_name": "spacyVenv",
   "language": "python",
   "name": "python3"
  },
  "language_info": {
   "codemirror_mode": {
    "name": "ipython",
    "version": 3
   },
   "file_extension": ".py",
   "mimetype": "text/x-python",
   "name": "python",
   "nbconvert_exporter": "python",
   "pygments_lexer": "ipython3",
   "version": "3.12.9"
  }
 },
 "nbformat": 4,
 "nbformat_minor": 5
}
